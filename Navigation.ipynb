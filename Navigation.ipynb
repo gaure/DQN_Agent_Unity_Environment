{
 "cells": [
  {
   "cell_type": "markdown",
   "metadata": {},
   "source": [
    "# Navigation\n",
    "\n",
    "---\n",
    "\n",
    "In this notebook, you will learn how to use the Unity ML-Agents environment for the first project of the [Deep Reinforcement Learning Nanodegree](https://www.udacity.com/course/deep-reinforcement-learning-nanodegree--nd893).\n",
    "\n",
    "### 1. Start the Environment\n",
    "\n",
    "We begin by importing some necessary packages.  If the code cell below returns an error, please revisit the project instructions to double-check that you have installed [Unity ML-Agents](https://github.com/Unity-Technologies/ml-agents/blob/master/docs/Installation.md) and [NumPy](http://www.numpy.org/)."
   ]
  },
  {
   "cell_type": "code",
   "execution_count": null,
   "metadata": {},
   "outputs": [],
   "source": [
    "from unityagents import UnityEnvironment\n",
    "import numpy as np"
   ]
  },
  {
   "cell_type": "markdown",
   "metadata": {},
   "source": [
    "Next, we will start the environment!  **_Before running the code cell below_**, change the `file_name` parameter to match the location of the Unity environment that you downloaded.\n",
    "\n",
    "- **Mac**: `\"path/to/Banana.app\"`\n",
    "- **Windows** (x86): `\"path/to/Banana_Windows_x86/Banana.exe\"`\n",
    "- **Windows** (x86_64): `\"path/to/Banana_Windows_x86_64/Banana.exe\"`\n",
    "- **Linux** (x86): `\"path/to/Banana_Linux/Banana.x86\"`\n",
    "- **Linux** (x86_64): `\"path/to/Banana_Linux/Banana.x86_64\"`\n",
    "- **Linux** (x86, headless): `\"path/to/Banana_Linux_NoVis/Banana.x86\"`\n",
    "- **Linux** (x86_64, headless): `\"path/to/Banana_Linux_NoVis/Banana.x86_64\"`\n",
    "\n",
    "For instance, if you are using a Mac, then you downloaded `Banana.app`.  If this file is in the same folder as the notebook, then the line below should appear as follows:\n",
    "```\n",
    "env = UnityEnvironment(file_name=\"Banana.app\")\n",
    "```"
   ]
  },
  {
   "cell_type": "code",
   "execution_count": null,
   "metadata": {
    "scrolled": true
   },
   "outputs": [],
   "source": [
    "env = UnityEnvironment(file_name=\"Banana_Linux/Banana.x86_64\")"
   ]
  },
  {
   "cell_type": "markdown",
   "metadata": {},
   "source": [
    "Environments contain **_brains_** which are responsible for deciding the actions of their associated agents. Here we check for the first brain available, and set it as the default brain we will be controlling from Python."
   ]
  },
  {
   "cell_type": "code",
   "execution_count": null,
   "metadata": {},
   "outputs": [],
   "source": [
    "# get the default brain\n",
    "brain_name = env.brain_names[0]\n",
    "brain = env.brains[brain_name]"
   ]
  },
  {
   "cell_type": "markdown",
   "metadata": {},
   "source": [
    "### 2. Examine the State and Action Spaces\n",
    "\n",
    "The simulation contains a single agent that navigates a large environment.  At each time step, it has four actions at its disposal:\n",
    "- `0` - walk forward \n",
    "- `1` - walk backward\n",
    "- `2` - turn left\n",
    "- `3` - turn right\n",
    "\n",
    "The state space has `37` dimensions and contains the agent's velocity, along with ray-based perception of objects around agent's forward direction.  A reward of `+1` is provided for collecting a yellow banana, and a reward of `-1` is provided for collecting a blue banana. \n",
    "\n",
    "Run the code cell below to print some information about the environment."
   ]
  },
  {
   "cell_type": "code",
   "execution_count": null,
   "metadata": {},
   "outputs": [],
   "source": [
    "# reset the environment\n",
    "env_info = env.reset(train_mode=True)[brain_name]\n",
    "\n",
    "# number of agents in the environment\n",
    "print('Number of agents:', len(env_info.agents))\n",
    "\n",
    "# number of actions\n",
    "action_size = brain.vector_action_space_size\n",
    "print('Number of actions:', action_size)\n",
    "\n",
    "# examine the state space \n",
    "state = env_info.vector_observations[0]\n",
    "print('States look like:', state)\n",
    "state_size = len(state)\n",
    "print('States have length:', state_size)"
   ]
  },
  {
   "cell_type": "markdown",
   "metadata": {},
   "source": [
    "### 3. Take Random Actions in the Environment\n",
    "\n",
    "In the next code cell, you will learn how to use the Python API to control the agent and receive feedback from the environment.\n",
    "\n",
    "Once this cell is executed, you will watch the agent's performance, if it selects an action (uniformly) at random with each time step.  A window should pop up that allows you to observe the agent, as it moves through the environment.  \n",
    "\n",
    "Of course, as part of the project, you'll have to change the code so that the agent is able to use its experience to gradually choose better actions when interacting with the environment!"
   ]
  },
  {
   "cell_type": "code",
   "execution_count": null,
   "metadata": {},
   "outputs": [],
   "source": [
    "env_info = env.reset(train_mode=False)[brain_name] # reset the environment\n",
    "state = env_info.vector_observations[0]            # get the current state\n",
    "score = 0                                          # initialize the score\n",
    "while True:\n",
    "    action = np.random.randint(action_size)        # select an action\n",
    "    env_info = env.step(action)[brain_name]        # send the action to the environment\n",
    "    next_state = env_info.vector_observations[0]   # get the next state\n",
    "    reward = env_info.rewards[0]                   # get the reward\n",
    "    done = env_info.local_done[0]                  # see if episode has finished\n",
    "    score += reward                                # update the score\n",
    "    state = next_state                             # roll over the state to next time step\n",
    "    if done:                                       # exit loop if episode finished\n",
    "        break\n",
    "    \n",
    "print(\"Score: {}\".format(score))"
   ]
  },
  {
   "cell_type": "markdown",
   "metadata": {},
   "source": [
    "When finished, you can close the environment."
   ]
  },
  {
   "cell_type": "code",
   "execution_count": null,
   "metadata": {},
   "outputs": [],
   "source": [
    "env.close()"
   ]
  },
  {
   "cell_type": "markdown",
   "metadata": {},
   "source": [
    "### 4. It's Your Turn!\n",
    "\n",
    "Now it's your turn to train your own agent to solve the environment!  When training the environment, set `train_mode=True`, so that the line for resetting the environment looks like the following:\n",
    "```python\n",
    "env_info = env.reset(train_mode=True)[brain_name]\n",
    "```"
   ]
  },
  {
   "cell_type": "code",
   "execution_count": 1,
   "metadata": {},
   "outputs": [
    {
     "name": "stderr",
     "output_type": "stream",
     "text": [
      "INFO:unityagents:\n",
      "'Academy' started successfully!\n",
      "Unity Academy name: Academy\n",
      "        Number of Brains: 1\n",
      "        Number of External Brains : 1\n",
      "        Lesson number : 0\n",
      "        Reset Parameters :\n",
      "\t\t\n",
      "Unity brain name: BananaBrain\n",
      "        Number of Visual Observations (per agent): 0\n",
      "        Vector Observation space type: continuous\n",
      "        Vector Observation space size (per agent): 37\n",
      "        Number of stacked Vector Observation: 1\n",
      "        Vector Action space type: discrete\n",
      "        Vector Action space size (per agent): 4\n",
      "        Vector Action descriptions: , , , \n"
     ]
    },
    {
     "name": "stdout",
     "output_type": "stream",
     "text": [
      "State size: 37\n",
      "Action space: 4\n"
     ]
    }
   ],
   "source": [
    "from dqn_agent import Agent\n",
    "import matplotlib.pyplot as plt\n",
    "%matplotlib inline\n",
    "from collections import deque\n",
    "from unityagents import UnityEnvironment\n",
    "import numpy as np\n",
    "\n",
    "# Load the environment\n",
    "env = UnityEnvironment(file_name=\"Banana_Linux/Banana.x86_64\", no_graphics=True)\n",
    "\n",
    "# get the environment default brain\n",
    "brain_name = env.brain_names[0]\n",
    "brain = env.brains[brain_name]\n",
    "\n",
    "# size of the state perceived by the brain\n",
    "env_info = env.reset(train_mode=True)[brain_name]\n",
    "state = env_info.vector_observations[0]\n",
    "state_size = len(state)\n",
    "print(\"State size: {}\".format(state_size))\n",
    "\n",
    "# size of the possible actions the brain can perform\n",
    "action_size = brain.vector_action_space_size\n",
    "print(\"Action space: {}\".format(action_size))\n",
    "\n",
    "\n"
   ]
  },
  {
   "cell_type": "code",
   "execution_count": 12,
   "metadata": {},
   "outputs": [],
   "source": [
    "# Instantiating the agent that will control the default brain\n",
    "agent = Agent(state_size=state_size, action_size=action_size, seed=0 )"
   ]
  },
  {
   "cell_type": "code",
   "execution_count": 13,
   "metadata": {},
   "outputs": [],
   "source": [
    "# Train the agent\n",
    "\n",
    "def dqn(n_episodes=10000, max_t=1000, eps_start=1.0, eps_end=0.01, eps_decay=0.995):\n",
    "    \"\"\"\n",
    "    Params\n",
    "    ======\n",
    "        n_episodes (int):      maximum number of training episodes\n",
    "        max_t (int):           maximum number of timesteps\n",
    "        eps_start (float):     initial value of epsilon, use to selected the greedy action\n",
    "        eps_end (float):       minimum value of epsilon\n",
    "        eps_decay (float):     factor to decay epsilon by multiplication\n",
    "    \n",
    "    \"\"\"\n",
    "    # Define the monitoring metrics\n",
    "    scores = []\n",
    "    scores_window = deque(maxlen=100)\n",
    "    eps = eps_start\n",
    "    for i_episodes in range(1, n_episodes +1):\n",
    "        # reset the environment\n",
    "        env_info = env.reset(train_mode=True)[brain_name]\n",
    "        # get the current state and reset episod score to 0\n",
    "        state = env_info.vector_observations[0]\n",
    "        score = 0\n",
    "        # execute the time steps up to max_t\n",
    "        for step in range(max_t):\n",
    "            # determine what action to take based on the state, epsilon\n",
    "            # using the local network in evaluation mode to not avoid\n",
    "            # doing an operation that will modify the weights.\n",
    "            # It returns the greedy-action based on the epsilon calculation\n",
    "            action = agent.act(state, eps)\n",
    "            # execute the selected action, which produces an object with\n",
    "            # the environment state variables\n",
    "            env_info = env.step(action)[brain_name]\n",
    "            next_state = env_info.vector_observations[0]\n",
    "            reward = env_info.rewards[0]\n",
    "            done = env_info.local_done[0]\n",
    "            # Based on the observation make the agent learn\n",
    "            agent.step(state, action, reward, next_state,done)\n",
    "            # update the state to reflex you are in the next_state\n",
    "            state = next_state\n",
    "            score += reward\n",
    "            # check if reached a terminal state\n",
    "            if done:\n",
    "                break\n",
    "        # store the episode score in the queue to collect a\n",
    "        # history of the last 100 episodes score\n",
    "        scores_window.append(score)\n",
    "        # save the score in a list \n",
    "        scores.append(score)\n",
    "        # time to decay epsilon selecting the greater of two\n",
    "        # value our smaller limit or the decayed eps\n",
    "        eps = max(eps_end, eps_decay*eps)\n",
    "        # print the average of the last 100 episodes.\n",
    "        #print('\\rEpisode {}\\tAverage Score: {:.2f}'.format(i_episodes,\n",
    "        #                                                   np.mean(scores_window)),\n",
    "        #     end=\"\")\n",
    "        # every 100 episodes print the ALL TIME score using all the episodes\n",
    "        # scores from episode one until now\n",
    "        if i_episodes % 100 == 0:\n",
    "            print('Episode {}\\tAverage Score so far: {:.2f}'.format(i_episodes,\n",
    "                                                              np.mean(scores)))\n",
    "        # check if the RL problem got solve by checking if the average \n",
    "        # of the last 100 episodes is greater than 22 \n",
    "        if np.mean(scores_window) >= 22.0:\n",
    "            import torch\n",
    "            print('\\nEnvironment solved in {:d} episodes!\\tAverage Score: {:.2f}'.format(i_episodes-100,\n",
    "                                                                                        np.mean(scores_window)))\n",
    "            # saved the DL weights and architecture that solve the problem\n",
    "            torch.save(agent.qnetwork_local.state_dict(), 'checkpoint.pth')\n",
    "        \n",
    "    # return all the scores of all the episodes\n",
    "    return scores\n",
    "            \n"
   ]
  },
  {
   "cell_type": "code",
   "execution_count": 14,
   "metadata": {},
   "outputs": [
    {
     "name": "stdout",
     "output_type": "stream",
     "text": [
      "Episode 100\tAverage Score so far: 0.28\n",
      "Episode 200\tAverage Score so far: 0.74\n",
      "Episode 300\tAverage Score so far: 0.97\n",
      "Episode 400\tAverage Score so far: 1.30\n",
      "Episode 500\tAverage Score so far: 1.77\n",
      "Episode 600\tAverage Score so far: 2.48\n",
      "Episode 700\tAverage Score so far: 3.35\n",
      "Episode 800\tAverage Score so far: 3.84\n",
      "Episode 900\tAverage Score so far: 4.32\n",
      "Episode 1000\tAverage Score so far: 5.04\n",
      "Episode 1100\tAverage Score so far: 5.48\n",
      "Episode 1200\tAverage Score so far: 5.79\n",
      "Episode 1300\tAverage Score so far: 6.00\n",
      "Episode 1400\tAverage Score so far: 6.36\n",
      "Episode 1500\tAverage Score so far: 6.74\n",
      "Episode 1600\tAverage Score so far: 6.95\n",
      "Episode 1700\tAverage Score so far: 7.04\n",
      "Episode 1800\tAverage Score so far: 7.20\n",
      "Episode 1900\tAverage Score so far: 7.35\n",
      "Episode 2000\tAverage Score so far: 7.59\n",
      "Episode 2100\tAverage Score so far: 7.85\n",
      "Episode 2200\tAverage Score so far: 8.01\n",
      "Episode 2300\tAverage Score so far: 7.98\n",
      "Episode 2400\tAverage Score so far: 8.04\n",
      "Episode 2500\tAverage Score so far: 8.16\n",
      "Episode 2600\tAverage Score so far: 8.28\n",
      "Episode 2700\tAverage Score so far: 8.36\n",
      "Episode 2800\tAverage Score so far: 8.50\n",
      "Episode 2900\tAverage Score so far: 8.61\n",
      "Episode 3000\tAverage Score so far: 8.74\n",
      "Episode 3100\tAverage Score so far: 8.85\n",
      "Episode 3200\tAverage Score so far: 8.97\n",
      "Episode 3300\tAverage Score so far: 8.99\n",
      "Episode 3400\tAverage Score so far: 9.09\n",
      "Episode 3500\tAverage Score so far: 9.19\n",
      "Episode 3600\tAverage Score so far: 9.29\n",
      "Episode 3700\tAverage Score so far: 9.37\n",
      "Episode 3800\tAverage Score so far: 9.39\n",
      "Episode 3900\tAverage Score so far: 9.42\n",
      "Episode 4000\tAverage Score so far: 9.52\n",
      "Episode 4100\tAverage Score so far: 9.63\n",
      "Episode 4200\tAverage Score so far: 9.70\n",
      "Episode 4300\tAverage Score so far: 9.78\n",
      "Episode 4400\tAverage Score so far: 9.84\n",
      "Episode 4500\tAverage Score so far: 9.90\n",
      "Episode 4600\tAverage Score so far: 9.95\n",
      "Episode 4700\tAverage Score so far: 10.02\n",
      "Episode 4800\tAverage Score so far: 10.05\n",
      "Episode 4900\tAverage Score so far: 10.09\n",
      "Episode 5000\tAverage Score so far: 10.14\n",
      "Episode 5100\tAverage Score so far: 10.17\n",
      "Episode 5200\tAverage Score so far: 10.18\n",
      "Episode 5300\tAverage Score so far: 10.22\n",
      "Episode 5400\tAverage Score so far: 10.23\n",
      "Episode 5500\tAverage Score so far: 10.26\n",
      "Episode 5600\tAverage Score so far: 10.30\n",
      "Episode 5700\tAverage Score so far: 10.32\n",
      "Episode 5800\tAverage Score so far: 10.38\n",
      "Episode 5900\tAverage Score so far: 10.44\n",
      "Episode 6000\tAverage Score so far: 10.49\n",
      "Episode 6100\tAverage Score so far: 10.52\n",
      "Episode 6200\tAverage Score so far: 10.54\n",
      "Episode 6300\tAverage Score so far: 10.56\n",
      "Episode 6400\tAverage Score so far: 10.60\n",
      "Episode 6500\tAverage Score so far: 10.63\n",
      "Episode 6600\tAverage Score so far: 10.69\n",
      "Episode 6700\tAverage Score so far: 10.75\n",
      "Episode 6800\tAverage Score so far: 10.77\n",
      "Episode 6900\tAverage Score so far: 10.78\n",
      "Episode 7000\tAverage Score so far: 10.81\n",
      "Episode 7100\tAverage Score so far: 10.85\n",
      "Episode 7200\tAverage Score so far: 10.88\n",
      "Episode 7300\tAverage Score so far: 10.91\n",
      "Episode 7400\tAverage Score so far: 10.93\n",
      "Episode 7500\tAverage Score so far: 10.93\n",
      "Episode 7600\tAverage Score so far: 10.96\n",
      "Episode 7700\tAverage Score so far: 10.99\n",
      "Episode 7800\tAverage Score so far: 11.02\n",
      "Episode 7900\tAverage Score so far: 11.05\n",
      "Episode 8000\tAverage Score so far: 11.07\n",
      "Episode 8100\tAverage Score so far: 11.08\n",
      "Episode 8200\tAverage Score so far: 11.09\n",
      "Episode 8300\tAverage Score so far: 11.12\n",
      "Episode 8400\tAverage Score so far: 11.13\n",
      "Episode 8500\tAverage Score so far: 11.14\n",
      "Episode 8600\tAverage Score so far: 11.15\n",
      "Episode 8700\tAverage Score so far: 11.16\n",
      "Episode 8800\tAverage Score so far: 11.18\n",
      "Episode 8900\tAverage Score so far: 11.22\n",
      "Episode 9000\tAverage Score so far: 11.21\n",
      "Episode 9100\tAverage Score so far: 11.23\n",
      "Episode 9200\tAverage Score so far: 11.22\n",
      "Episode 9300\tAverage Score so far: 11.22\n",
      "Episode 9400\tAverage Score so far: 11.24\n",
      "Episode 9500\tAverage Score so far: 11.25\n",
      "Episode 9600\tAverage Score so far: 11.25\n",
      "Episode 9700\tAverage Score so far: 11.27\n",
      "Episode 9800\tAverage Score so far: 11.29\n",
      "Episode 9900\tAverage Score so far: 11.30\n",
      "Episode 10000\tAverage Score so far: 11.31\n"
     ]
    }
   ],
   "source": [
    "# Run the training\n",
    "\n",
    "scores = dqn()\n",
    "\n"
   ]
  },
  {
   "cell_type": "code",
   "execution_count": 15,
   "metadata": {},
   "outputs": [
    {
     "data": {
      "image/png": "[encoded data removed]",
      "text/plain": [
       "<Figure size 432x288 with 1 Axes>"
      ]
     },
     "metadata": {
      "needs_background": "light"
     },
     "output_type": "display_data"
    }
   ],
   "source": [
    "# saved the DL weights and architecture that solve the problem\n",
    "import torch\n",
    "torch.save(agent.qnetwork_local.state_dict(), 'checkpoint.pth')\n",
    "\n",
    "\n",
    "# plot the scores\n",
    "fig = plt.figure()\n",
    "ax = fig.add_subplot(111)\n",
    "plt.plot(np.arange(len(scores)), scores)\n",
    "plt.ylabel('Score')\n",
    "plt.xlabel('Episode #')\n",
    "plt.show()\n",
    "\n",
    "\n",
    "\n"
   ]
  },
  {
   "cell_type": "code",
   "execution_count": 16,
   "metadata": {},
   "outputs": [],
   "source": [
    "# close environment\n",
    "env.close()"
   ]
  }
 ],
 "metadata": {
  "kernelspec": {
   "display_name": "Python 3",
   "language": "python",
   "name": "python3"
  },
  "language_info": {
   "codemirror_mode": {
    "name": "ipython",
    "version": 3
   },
   "file_extension": ".py",
   "mimetype": "text/x-python",
   "name": "python",
   "nbconvert_exporter": "python",
   "pygments_lexer": "ipython3",
   "version": "3.6.6"
  }
 },
 "nbformat": 4,
 "nbformat_minor": 2
}
